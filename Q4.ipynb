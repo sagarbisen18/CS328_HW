{
 "cells": [
  {
   "cell_type": "markdown",
   "metadata": {},
   "source": [
    "# Q4 "
   ]
  },
  {
   "cell_type": "code",
   "execution_count": 1,
   "metadata": {},
   "outputs": [],
   "source": [
    "from collections import OrderedDict\n",
    "import numpy as np\n",
    "import random\n",
    "import pyhash\n",
    "import matplotlib.pyplot as plt\n",
    "from statistics import median\n",
    "from prettytable import PrettyTable\n"
   ]
  },
  {
   "cell_type": "code",
   "execution_count": 2,
   "metadata": {},
   "outputs": [
    {
     "name": "stdout",
     "output_type": "stream",
     "text": [
      "Collecting prettytable\n",
      "  Downloading prettytable-2.1.0-py3-none-any.whl (22 kB)\n",
      "Requirement already satisfied: wcwidth in c:\\users\\sagar\\appdata\\roaming\\python\\python38\\site-packages (from prettytable) (0.2.5)\n",
      "Installing collected packages: prettytable\n",
      "Successfully installed prettytable-2.1.0\n"
     ]
    }
   ],
   "source": [
    "!pip install prettytable"
   ]
  },
  {
   "cell_type": "code",
   "execution_count": 4,
   "metadata": {},
   "outputs": [
    {
     "name": "stdout",
     "output_type": "stream",
     "text": [
      "[(1, 4), (2, 2), (3, 10), (4, 4), (5, 2), (6, 1), (7, 1), (8, 1), (9, 3), (10, 9)]\n"
     ]
    }
   ],
   "source": [
    "f=open('Q4_data/train.data','r')\n",
    "l=[i.strip().split() for i in f.readlines()]\n",
    "data=[]\n",
    "### wordid and count\n",
    "for i in l:\n",
    "    data.append((int(i[1]),int(i[2])))\n",
    "    \n",
    "\n",
    "    \n",
    "# print(data[:10])\n",
    "\n",
    "\n",
    "### storing word_id : its count\n",
    "word_dic={}\n",
    "\n",
    "for p in data:\n",
    "    if p[0] in word_dic:\n",
    "        word_dic[p[0]]+=p[1]\n",
    "    else:\n",
    "        word_dic[p[0]]=p[1]\n",
    "        \n",
    "### sort the dictionary wrt count\n",
    "max_words=OrderedDict(sorted(word_dic.items(), key=lambda t: t[1]))\n",
    "max_words=list(max_words.items())\n",
    "max_words=max_words[-1000:]  ### 1000\n",
    "query_list=random.sample(max_words,100)   ## pickout 100 random \n",
    "# print(query_list)"
   ]
  },
  {
   "cell_type": "code",
   "execution_count": 68,
   "metadata": {},
   "outputs": [],
   "source": [
    "def Cm_Sketch(k):\n",
    "    global data\n",
    "    w=5\n",
    "    d=k//w\n",
    "    hash_func=[pyhash.metro_64(seed=i) for i in range(w)]\n",
    "    table=np.zeros((w,d))\n",
    "    for p in stream:\n",
    "        for i in range(w):\n",
    "            j=hash_func[i](str(p[0]))%d\n",
    "            table[i][j]+=p[1]\n",
    "    return [table,hash_func]"
   ]
  },
  {
   "cell_type": "code",
   "execution_count": 69,
   "metadata": {},
   "outputs": [],
   "source": [
    "def Cs_Sketch(k):\n",
    "    global data\n",
    "    w=5\n",
    "    d=k//w\n",
    "    hash_func=[pyhash.metro_64(seed = i) for i in range(w)]\n",
    "    g_hash_func=[pyhash.metro_64(seed = i) for i in range(w,2*w)]\n",
    "    table=np.zeros((w,d))\n",
    "    for x in data:\n",
    "        for i in range(w):\n",
    "            j=hash_func[i](str(x[0]))%d\n",
    "            sign=2*(g_hash_func[i](str(x[0]))%2)-1\n",
    "            table[i][j]+=sign*x[1]\n",
    "    return [table,hash_func,g_hash_func]\n"
   ]
  },
  {
   "cell_type": "code",
   "execution_count": 70,
   "metadata": {},
   "outputs": [],
   "source": [
    "def Misra_Gries_Sketch(k):\n",
    "    global data\n",
    "    freq_dic={}\n",
    "    for x in data:\n",
    "        if x[0] in freq_dic:\n",
    "            freq_dic[x[0]]+=x[1]\n",
    "        elif len(freq_dic)<k-1:\n",
    "            freq_dic[x[0]]=x[1]\n",
    "        else:\n",
    "            n=[]\n",
    "            for i in freq_dic:\n",
    "                freq_dic[i]-=x[1]\n",
    "                if freq_dic[i]<=0:\n",
    "                    n.append(freq_dic[i])\n",
    "            if len(n)>0:\n",
    "                m=-min(n)\n",
    "                freq_dic[x[0]]=m\n",
    "                d=[]\n",
    "                for i in freq_dic:\n",
    "                    freq_dic[i]+=m\n",
    "                    if freq_dic[i]==0:\n",
    "                        d.append(i)\n",
    "                for j in d:\n",
    "                    del freq_dic[j]\n",
    "    return freq_dic"
   ]
  },
  {
   "cell_type": "code",
   "execution_count": 71,
   "metadata": {},
   "outputs": [],
   "source": [
    "def Cs_Query(table,  hash_func,  g_hash_func, x, d):\n",
    "    w=5\n",
    "    result=[]\n",
    "    for i in range(w):\n",
    "        j=hash_func[i](str(x))%d\n",
    "        sign=2*(g_hash_func[i](str(x))%2)-1\n",
    "        result.append(sign*table[i][j])\n",
    "    return median(result)"
   ]
  },
  {
   "cell_type": "code",
   "execution_count": 72,
   "metadata": {},
   "outputs": [],
   "source": [
    "def Cm_Query(table,hash_func,x,d):\n",
    "    w=5\n",
    "    result=[]\n",
    "    for i in range(w):\n",
    "        j=hash_func[i](str(x))%d\n",
    "        result.append(table[i][j])\n",
    "    return min(result)"
   ]
  },
  {
   "cell_type": "code",
   "execution_count": 73,
   "metadata": {},
   "outputs": [],
   "source": [
    "def Mg_Query(freq,x):\n",
    "    if x in freq:\n",
    "        return freq[x]\n",
    "    return 0"
   ]
  },
  {
   "cell_type": "markdown",
   "metadata": {},
   "source": [
    "# Sketch Computation"
   ]
  },
  {
   "cell_type": "code",
   "execution_count": 74,
   "metadata": {},
   "outputs": [],
   "source": [
    "cm=[]\n",
    "cs=[]\n",
    "mg=[]\n",
    "\n",
    "### as per the question\n",
    "K_list=[100,200,500,1000,2000]\n",
    "for k in K_list:\n",
    "    cm.append(Cm_Sketch(k))\n",
    "    cs.append(Cs_Sketch(k))\n",
    "    mg.append(Misra_Gries_Sketch(k))"
   ]
  },
  {
   "cell_type": "markdown",
   "metadata": {},
   "source": [
    "# Error calculations"
   ]
  },
  {
   "cell_type": "code",
   "execution_count": 75,
   "metadata": {},
   "outputs": [],
   "source": [
    "cm_error=[]\n",
    "cs_error=[]\n",
    "mg_error=[]\n",
    "for i in range(len(K_list)):\n",
    "    err_cm=0\n",
    "    err_cs=0\n",
    "    err_mg=0\n",
    "    for j in query_list:\n",
    "        x=j[0]\n",
    "        y=j[1]\n",
    "        err_cm+=abs(cm_query(cm[i][0],cm[i][1],x,cm[i][0].shape[1])-y)/y\n",
    "        err_cs+=abs(cs_query(cs[i][0],cs[i][1],cs[i][2],x,cs[i][0].shape[1])-y)/y\n",
    "        err_mg+=abs(mg_query(mg[i],x)-y)/y\n",
    "    cm_error.append(err_cm/100)\n",
    "    cs_error.append(err_cs/100)\n",
    "    mg_error.append(err_mg/100)"
   ]
  },
  {
   "cell_type": "markdown",
   "metadata": {},
   "source": [
    "# Table"
   ]
  },
  {
   "cell_type": "code",
   "execution_count": 62,
   "metadata": {},
   "outputs": [
    {
     "name": "stdout",
     "output_type": "stream",
     "text": [
      "+--------------------+--------------------+--------------------+--------------------+--------------------+--------------------+\n",
      "|      Sketch\\k      |        100         |        200         |        500         |        1000        |        2000        |\n",
      "+--------------------+--------------------+--------------------+--------------------+--------------------+--------------------+\n",
      "|     CM Sketch      | 154.35662664867422 | 67.71429463262264  | 23.625279859804674 | 10.126970336489123 | 4.070373201222307  |\n",
      "|     CS Sketch      | 21.885286713271338 | 12.106181631478323 | 5.502845424850691  | 2.5336062259853844 | 1.4592332611809775 |\n",
      "| Misra-Gries Sketch | 0.9990731787891779 | 0.9935717805777838 | 0.9770975044958822 | 0.9390434949257538 | 0.7758444865289253 |\n",
      "+--------------------+--------------------+--------------------+--------------------+--------------------+--------------------+\n"
     ]
    }
   ],
   "source": [
    "table=PrettyTable(['Sketch\\\\k']+K_list)\n",
    "table.add_row(['CM Sketch']+cm_error)\n",
    "table.add_row(['CS Sketch']+cs_error)\n",
    "table.add_row(['Misra-Gries Sketch']+mg_error)\n",
    "print(table)"
   ]
  },
  {
   "cell_type": "markdown",
   "metadata": {},
   "source": [
    "# Table Plotting"
   ]
  },
  {
   "cell_type": "code",
   "execution_count": 65,
   "metadata": {},
   "outputs": [
    {
     "data": {
      "image/png": "[encoded data removed]",
      "text/plain": [
       "<Figure size 432x288 with 1 Axes>"
      ]
     },
     "metadata": {
      "needs_background": "light"
     },
     "output_type": "display_data"
    }
   ],
   "source": [
    "plt.figure(1)\n",
    "plt.plot(K_list,cm_error,label=\"Count Min Sketch \", color='green')\n",
    "plt.plot(K_list,cs_error,label=\"Count Sketch\", color = 'blue')\n",
    "plt.plot(K_list,mg_error,label=\"Misra-Gries Sketch\" , color='red')\n",
    "plt.xlabel(\"k\")\n",
    "plt.ylabel(\"Error\")\n",
    "plt.legend()\n",
    "plt.title('Error v/s k for cm,cs and mg Sketch')\n",
    "plt.show()\n",
    "plt.close()"
   ]
  },
  {
   "cell_type": "markdown",
   "metadata": {},
   "source": [
    "# Performance:"
   ]
  },
  {
   "cell_type": "markdown",
   "metadata": {},
   "source": [
    "Misra-Gries Sketch  <  Count Sketch  < Count Min"
   ]
  },
  {
   "cell_type": "code",
   "execution_count": null,
   "metadata": {},
   "outputs": [],
   "source": []
  }
 ],
 "metadata": {
  "kernelspec": {
   "display_name": "Python 3",
   "language": "python",
   "name": "python3"
  },
  "language_info": {
   "codemirror_mode": {
    "name": "ipython",
    "version": 3
   },
   "file_extension": ".py",
   "mimetype": "text/x-python",
   "name": "python",
   "nbconvert_exporter": "python",
   "pygments_lexer": "ipython3",
   "version": "3.8.5"
  }
 },
 "nbformat": 4,
 "nbformat_minor": 4
}
