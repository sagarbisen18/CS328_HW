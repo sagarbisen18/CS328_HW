{
 "cells": [
  {
   "cell_type": "markdown",
   "metadata": {},
   "source": [
    "# Q5"
   ]
  },
  {
   "cell_type": "code",
   "execution_count": 2,
   "metadata": {},
   "outputs": [],
   "source": [
    "import numpy as np\n",
    "import matplotlib.pyplot as plt\n",
    "from sklearn.linear_model import LinearRegression\n",
    "from sklearn.metrics import mean_squared_error"
   ]
  },
  {
   "cell_type": "code",
   "execution_count": 3,
   "metadata": {},
   "outputs": [
    {
     "name": "stdout",
     "output_type": "stream",
     "text": [
      "[[   1    1    5]\n",
      " [   1    2    3]\n",
      " [   1    3    4]\n",
      " ...\n",
      " [ 943 1188    3]\n",
      " [ 943 1228    3]\n",
      " [ 943 1330    3]]\n",
      "(943, 1682)\n"
     ]
    }
   ],
   "source": [
    "train_file = open('Q5_data/ml80.train')   ## size = 80,000\n",
    "train_data = []\n",
    "\n",
    "### converting dataset into int array\n",
    "for i in train_file :\n",
    "    temp = i.split()\n",
    "    for j in range(len(temp)):\n",
    "        temp[j] = int(temp[j])\n",
    "    train_data.append(temp)\n",
    "train_data = np.array(train_data)\n",
    "print(train_data)\n",
    "train_file.close()\n",
    "\n",
    "num_users=  train_data[:,0].max()\n",
    "num_movies =  train_data[:,1].max()\n",
    "\n",
    "### zero matrix of size (num_users X num_movies)\n",
    "final_train = np.zeros(((num_users, num_movies) ))\n",
    "\n",
    "print(final_train.shape)\n",
    "for i in range(len(train_data)):\n",
    "#     fill the matrix with reviews as per traning data\n",
    "    final_train[train_data[i][0] - 1][train_data[i][1] - 1] = int(train_data[i][2])"
   ]
  },
  {
   "cell_type": "code",
   "execution_count": 4,
   "metadata": {},
   "outputs": [
    {
     "name": "stdout",
     "output_type": "stream",
     "text": [
      "[[  1   5   3]\n",
      " [  1  11   2]\n",
      " [  1  16   5]\n",
      " ...\n",
      " [875 772   5]\n",
      " [876 294   4]\n",
      " [877 382   3]]\n",
      "(877, 1669)\n",
      "[[0. 0. 0. ... 0. 0. 0.]\n",
      " [0. 0. 0. ... 0. 0. 0.]\n",
      " [0. 0. 0. ... 0. 0. 0.]\n",
      " ...\n",
      " [0. 0. 0. ... 0. 0. 0.]\n",
      " [0. 0. 0. ... 0. 0. 0.]\n",
      " [0. 0. 0. ... 0. 0. 0.]]\n"
     ]
    }
   ],
   "source": [
    "test_file = open('Q5_data/ml20.test')   ## size = 80,000\n",
    "test_data = []\n",
    "\n",
    "### converting dataset into int array\n",
    "for i in test_file :\n",
    "    temp = i.split()\n",
    "    for j in range(len(temp)):\n",
    "        temp[j] = int(temp[j])\n",
    "    test_data.append(temp)\n",
    "test_data = np.array(test_data)\n",
    "print(test_data)\n",
    "test_file.close()\n",
    "\n",
    "num_users=  test_data[:,0].max()\n",
    "num_movies =  test_data[:,1].max()\n",
    "\n",
    "### zero matrix of size (num_users X num_movies)\n",
    "final_test = np.zeros(((num_users, num_movies) ))\n",
    "\n",
    "print(final_test.shape)\n",
    "for i in range(len(test_data)):\n",
    "#     fill the matrix with reviews as per test data\n",
    "    final_test[test_data[i][0] - 1][test_data[i][1] - 1] = int(test_data[i][2])\n",
    "\n",
    "print(final_test)"
   ]
  },
  {
   "cell_type": "markdown",
   "metadata": {},
   "source": [
    "# SVD Decomposition of a matrix Y is  UxSxV.t"
   ]
  },
  {
   "cell_type": "markdown",
   "metadata": {},
   "source": [
    "Here U and V are orthogonal matrices and S is daigonal matrix\n"
   ]
  },
  {
   "cell_type": "code",
   "execution_count": 5,
   "metadata": {},
   "outputs": [],
   "source": [
    "def K_Rank_Approx(k,X_train):\n",
    "    \n",
    "    U, S, V_t = np.linalg.svd(X_train,full_matrices=False)\n",
    "    \n",
    "    if k>=len(S):\n",
    "        return X_train\n",
    "    else:\n",
    "        U_n = U[:,:k]\n",
    "        S_n = np.diag(S[:k])\n",
    "        V_n = V_t[:k,:]\n",
    "        X = np.matmul(U_n,np.matmul(S_n,V_n))\n",
    "    return X"
   ]
  },
  {
   "cell_type": "code",
   "execution_count": 6,
   "metadata": {},
   "outputs": [
    {
     "data": {
      "text/plain": [
       "array([[ 3.23430743e+00,  1.43806522e+00,  1.23417265e+00, ...,\n",
       "        -1.03312399e-02,  1.94909601e-02,  4.60322764e-02],\n",
       "       [ 1.22586509e+00, -2.88083617e-01,  1.62581212e-01, ...,\n",
       "         1.49902353e-02, -4.54857894e-03, -1.06344165e-02],\n",
       "       [-2.86424303e-01,  9.54477175e-02, -9.04171302e-03, ...,\n",
       "         2.26427980e-02,  1.49362140e-03, -8.45181606e-03],\n",
       "       ...,\n",
       "       [ 1.28642167e+00,  1.54788629e-03,  3.34304381e-01, ...,\n",
       "        -1.20322740e-03, -1.14504978e-03,  3.32772850e-03],\n",
       "       [ 6.20066221e-01,  3.23389177e-01, -4.04034378e-01, ...,\n",
       "         2.12430213e-02,  6.48545771e-03, -2.47168101e-02],\n",
       "       [ 2.83769505e+00,  1.81793313e+00,  1.02478113e+00, ...,\n",
       "        -1.02142456e-02,  2.32845587e-02,  3.28301011e-02]])"
      ]
     },
     "execution_count": 6,
     "metadata": {},
     "output_type": "execute_result"
    }
   ],
   "source": [
    "K_Rank_Approx(5,final_train)"
   ]
  },
  {
   "cell_type": "markdown",
   "metadata": {},
   "source": [
    "# Low Rank Approx error"
   ]
  },
  {
   "cell_type": "code",
   "execution_count": 8,
   "metadata": {},
   "outputs": [],
   "source": [
    "error = {i:0 for i in range(1,101)}\n",
    "for k in [i for i in range(1,101)]:\n",
    "    approx = K_Rank_Approx(k,final_train)\n",
    "    temp = 0\n",
    "    \n",
    "    for i1 in range(final_test.shape[0]):\n",
    "#         print(i1)\n",
    "        for j in range(final_test.shape[1]):\n",
    "#             print(j)\n",
    "            if final_test[i1][j]!=0 :\n",
    "                temp+= (approx[i1][j] - final_test[i1][j])**2\n",
    "    error[k] = temp\n"
   ]
  },
  {
   "cell_type": "markdown",
   "metadata": {},
   "source": [
    "# Baseline Error"
   ]
  },
  {
   "cell_type": "code",
   "execution_count": 13,
   "metadata": {},
   "outputs": [],
   "source": [
    "mean_movies = final_train.mean(axis=1)   \n",
    "mean_users = final_train.mean(axis=0) \n",
    "# print(mean_movies)\n",
    "# print(mean_users)\n",
    "baseline = []\n",
    "for i in range(len(final_train)):\n",
    "    for j in range(len(final_train[1])):\n",
    "        baseline.append([mean_movies[i],mean_users[j],final_train[i][j]])\n",
    "baseline= np.array(baseline)\n",
    "\n",
    "testing = []\n",
    "actual= []\n",
    "for i in range(len(final_test)):\n",
    "    for j in range(len(final_test[1])):\n",
    "        if final_test[i][j]!=0:\n",
    "            testing.append([mean_movies[i],mean_users[j],final_test[i][j]])\n",
    "            actual.append(final_test[i][j])\n",
    "            \n",
    "testing = np.array(testing)\n",
    "lr_model = LinearRegression(fit_intercept=False)\n",
    "lr_model.fit(baseline[:,:2],baseline[:,2])\n",
    "predicted = lr_model.predict(testing[:,:2])\n",
    "error_baseline = mean_squared_error(predicted, actual)*len(actual)"
   ]
  },
  {
   "cell_type": "markdown",
   "metadata": {},
   "source": [
    "# Graph Plotting"
   ]
  },
  {
   "cell_type": "code",
   "execution_count": 17,
   "metadata": {},
   "outputs": [
    {
     "data": {
      "text/plain": [
       "<matplotlib.legend.Legend at 0x240afd69ee0>"
      ]
     },
     "execution_count": 17,
     "metadata": {},
     "output_type": "execute_result"
    },
    {
     "data": {
      "image/png": "[encoded data removed]",
      "text/plain": [
       "<Figure size 432x288 with 1 Axes>"
      ]
     },
     "metadata": {
      "needs_background": "light"
     },
     "output_type": "display_data"
    }
   ],
   "source": [
    "plt.plot([i+1 for i in range(100)], [ error_baseline for i in range(100)], color='red',label='Baseline')\n",
    "plt.plot([i+1 for i in range(100)],[error[i+1] for i in range(100)], color = 'green',label='Low rank approx.')\n",
    "plt.title('Error vs K   Low Rank Approx - Baseline error')\n",
    "plt.xlabel('Varying value of K')\n",
    "plt.ylabel('Error ')\n",
    "plt.legend(loc='lower right')"
   ]
  },
  {
   "cell_type": "markdown",
   "metadata": {},
   "source": [
    "# Best value of K can be seen near 16(minima)"
   ]
  },
  {
   "cell_type": "code",
   "execution_count": null,
   "metadata": {},
   "outputs": [],
   "source": []
  }
 ],
 "metadata": {
  "kernelspec": {
   "display_name": "Python 3",
   "language": "python",
   "name": "python3"
  },
  "language_info": {
   "codemirror_mode": {
    "name": "ipython",
    "version": 3
   },
   "file_extension": ".py",
   "mimetype": "text/x-python",
   "name": "python",
   "nbconvert_exporter": "python",
   "pygments_lexer": "ipython3",
   "version": "3.8.5"
  }
 },
 "nbformat": 4,
 "nbformat_minor": 2
}
